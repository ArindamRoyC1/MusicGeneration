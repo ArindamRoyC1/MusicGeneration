{
 "cells": [
  {
   "cell_type": "markdown",
   "metadata": {},
   "source": [
    "## Introduction to .Midi files and Mido"
   ]
  },
  {
   "cell_type": "markdown",
   "metadata": {},
   "source": [
    "The package that we are going to use to process .Midi file is **mido**. You can run the .midi file in Windows Media Player."
   ]
  },
  {
   "cell_type": "code",
   "execution_count": 1,
   "metadata": {},
   "outputs": [],
   "source": [
    "import mido"
   ]
  },
  {
   "cell_type": "code",
   "execution_count": 3,
   "metadata": {},
   "outputs": [
    {
     "name": "stdout",
     "output_type": "stream",
     "text": [
      "<midi file 'AULDLANG.MID' type 1, 6 tracks, 754 messages>\n"
     ]
    }
   ],
   "source": [
    "song = mido.MidiFile('AULDLANG.MID') #This is a christmas song\n",
    "print(song)  #let us see what it looks like"
   ]
  },
  {
   "cell_type": "markdown",
   "metadata": {},
   "source": [
    "So, we get some midi object. Each midi object comprises of some tracks, all of which are played simulateneously to create the music. Also, each of the track contains some messages or instructions about how to play that track in piano."
   ]
  },
  {
   "cell_type": "code",
   "execution_count": 4,
   "metadata": {},
   "outputs": [
    {
     "name": "stdout",
     "output_type": "stream",
     "text": [
      "<midi track 'Auld Lang Syne.mid' 5 messages>\n",
      "<midi track 'Drums' 346 messages>\n",
      "<midi track 'Strings' 50 messages>\n",
      "<midi track 'Piano' 234 messages>\n",
      "<midi track 'Piano' 99 messages>\n",
      "<midi track 'Bass' 20 messages>\n"
     ]
    }
   ],
   "source": [
    "# you can access the tracks pretty much the same way you access a list\n",
    "# but here, you have list of lists, i.e. tracks of messages\n",
    "for track in song.tracks:\n",
    "    print(track)"
   ]
  },
  {
   "cell_type": "code",
   "execution_count": 5,
   "metadata": {},
   "outputs": [
    {
     "name": "stdout",
     "output_type": "stream",
     "text": [
      "<midi track 'Auld Lang Syne.mid' 5 messages>\n",
      "<meta message track_name name='Auld Lang Syne.mid' time=0>\n",
      "<meta message smpte_offset frame_rate=25 hours=0 minutes=0 seconds=0 frames=0 sub_frames=0 time=0>\n",
      "<meta message set_tempo tempo=512820 time=0>\n",
      "<meta message time_signature numerator=4 denominator=4 clocks_per_click=24 notated_32nd_notes_per_beat=8 time=0>\n",
      "<meta message end_of_track time=32640>\n",
      "\n",
      "\n",
      "<midi track 'Drums' 346 messages>\n",
      "<meta message instrument_name name='QuickTime Music' time=0>\n",
      "<meta message track_name name='Drums' time=0>\n",
      "program_change channel=9 program=0 time=0\n",
      "note_on channel=9 note=42 velocity=80 time=960\n",
      "note_on channel=9 note=51 velocity=100 time=0\n",
      "note_on channel=9 note=36 velocity=113 time=0\n",
      "note_on channel=9 note=42 velocity=0 time=5\n",
      "note_on channel=9 note=51 velocity=0 time=0\n",
      "note_on channel=9 note=36 velocity=0 time=0\n",
      "\n",
      "\n",
      "<midi track 'Strings' 50 messages>\n",
      "<meta message instrument_name name='QuickTime Music' time=0>\n",
      "<meta message track_name name='Strings' time=0>\n",
      "program_change channel=11 program=49 time=0\n",
      "note_on channel=11 note=57 velocity=60 time=16320\n",
      "note_on channel=11 note=48 velocity=60 time=0\n",
      "note_on channel=11 note=53 velocity=60 time=0\n",
      "note_on channel=11 note=57 velocity=0 time=1920\n",
      "note_on channel=11 note=48 velocity=0 time=0\n",
      "note_on channel=11 note=53 velocity=0 time=0\n",
      "\n",
      "\n",
      "<midi track 'Piano' 234 messages>\n",
      "<meta message instrument_name name='QuickTime Music' time=0>\n",
      "<meta message track_name name='Piano' time=0>\n",
      "program_change channel=12 program=0 time=0\n",
      "note_on channel=12 note=60 velocity=120 time=545\n",
      "note_on channel=12 note=65 velocity=120 time=415\n",
      "note_on channel=12 note=60 velocity=86 time=0\n",
      "note_on channel=12 note=60 velocity=0 time=63\n",
      "note_on channel=12 note=64 velocity=97 time=657\n",
      "note_on channel=12 note=60 velocity=64 time=0\n",
      "\n",
      "\n",
      "<midi track 'Piano' 99 messages>\n",
      "<meta message instrument_name name='QuickTime Music' time=0>\n",
      "<meta message track_name name='Piano' time=0>\n",
      "note_on channel=12 note=53 velocity=89 time=960\n",
      "note_on channel=12 note=57 velocity=96 time=0\n",
      "note_on channel=12 note=60 velocity=72 time=0\n",
      "note_on channel=12 note=60 velocity=0 time=1641\n",
      "note_on channel=12 note=57 velocity=0 time=14\n",
      "note_on channel=12 note=53 velocity=0 time=6\n",
      "note_on channel=12 note=52 velocity=89 time=259\n",
      "\n",
      "\n",
      "<midi track 'Bass' 20 messages>\n",
      "<meta message instrument_name name='QuickTime Music' time=0>\n",
      "<meta message track_name name='Bass' time=0>\n",
      "program_change channel=13 program=35 time=0\n",
      "note_on channel=13 note=41 velocity=90 time=16320\n",
      "note_on channel=13 note=41 velocity=0 time=1917\n",
      "note_on channel=13 note=43 velocity=90 time=3\n",
      "note_on channel=13 note=43 velocity=0 time=1859\n",
      "note_on channel=13 note=41 velocity=90 time=61\n",
      "note_on channel=13 note=46 velocity=90 time=1920\n",
      "\n",
      "\n"
     ]
    }
   ],
   "source": [
    "# let us print some messages from each track\n",
    "for track in song.tracks:\n",
    "    print(track)  #print the track name\n",
    "    for msg in track[0:9]:\n",
    "        print(msg)  # print 10 messages for each track\n",
    "    print('\\n')  # print a new line"
   ]
  },
  {
   "cell_type": "markdown",
   "metadata": {},
   "source": [
    "Note that there are two types of messages:\n",
    "* One that starts with <> . These are called meta messages, this does not consititute any tune but only some basic rythmic notions, for e.g. setting up the tempo.\n",
    "* One normal messages. These are played actually and can be heard. The argument note denotes the number of the note to play, the velocity denote the how hard the key should be pressed, and the time denote when should be play it."
   ]
  },
  {
   "cell_type": "markdown",
   "metadata": {},
   "source": [
    "A reference to the notes with their numbers is as follows.\n",
    "![Note to Number](./midi_notes.png)"
   ]
  },
  {
   "cell_type": "markdown",
   "metadata": {},
   "source": [
    "## Saving only one track"
   ]
  },
  {
   "cell_type": "code",
   "execution_count": 6,
   "metadata": {},
   "outputs": [],
   "source": [
    "# Suppose we save only one track and want to hear it.\n",
    "NewSong = mido.MidiFile()  #create an empty midifile\n",
    "NewSong.tracks.append(song.tracks[3])  #add the fourth track\n",
    "NewSong.save('AuldLang_Piano_Only.mid')"
   ]
  },
  {
   "cell_type": "markdown",
   "metadata": {},
   "source": [
    "Now, open up Windows Media Player and hear it. Similarly, we make one drums only."
   ]
  },
  {
   "cell_type": "code",
   "execution_count": 7,
   "metadata": {},
   "outputs": [],
   "source": [
    "NewSong = mido.MidiFile()  #create an empty midifile\n",
    "NewSong.tracks.append(song.tracks[1])  #add the second track\n",
    "NewSong.save('AuldLang_Drums_Only.mid')"
   ]
  },
  {
   "cell_type": "markdown",
   "metadata": {},
   "source": [
    "For Rock or Pop songs, you can differentiate more. Now, I have been able to find a program that merges all the tracks of the midifile into a single track, without the loss of any quality. That's great!"
   ]
  },
  {
   "cell_type": "markdown",
   "metadata": {},
   "source": [
    "**Now the question is how to create some numeric inputs out of this? Please suggest...**"
   ]
  },
  {
   "cell_type": "code",
   "execution_count": null,
   "metadata": {},
   "outputs": [],
   "source": []
  }
 ],
 "metadata": {
  "kernelspec": {
   "display_name": "Python 3",
   "language": "python",
   "name": "python3"
  },
  "language_info": {
   "codemirror_mode": {
    "name": "ipython",
    "version": 3
   },
   "file_extension": ".py",
   "mimetype": "text/x-python",
   "name": "python",
   "nbconvert_exporter": "python",
   "pygments_lexer": "ipython3",
   "version": "3.6.3"
  }
 },
 "nbformat": 4,
 "nbformat_minor": 2
}
